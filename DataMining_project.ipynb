{
  "nbformat": 4,
  "nbformat_minor": 0,
  "metadata": {
    "colab": {
      "provenance": [],
      "include_colab_link": true
    },
    "kernelspec": {
      "name": "python3",
      "display_name": "Python 3"
    },
    "language_info": {
      "name": "python"
    }
  },
  "cells": [
    {
      "cell_type": "markdown",
      "metadata": {
        "id": "view-in-github",
        "colab_type": "text"
      },
      "source": [
        "<a href=\"https://colab.research.google.com/github/vee-22/victoriaWeb3/blob/main/DataMining_project.ipynb\" target=\"_parent\"><img src=\"https://colab.research.google.com/assets/colab-badge.svg\" alt=\"Open In Colab\"/></a>"
      ]
    },
    {
      "cell_type": "markdown",
      "source": [
        "# 1. Business Understanding\n",
        "\n",
        "## 1.1 Problem Statement\n",
        "Wikipedia content about *Zambia* remains significantly underrepresented, with very few comprehensive pages dedicated to Zambian topics, history, culture, and current affairs. The *DataLab Research group* at The University of Zambia has identified that understanding the knowledge levels and expertise of current Wikipedia contributors working on Zambian content is crucial for developing targeted strategies to improve content quality and quantity.\n",
        "\n",
        "Currently, there is no systematic way to assess the expertise and knowledge depth of contributors to Zambian Wikipedia pages, making it difficult to:\n",
        "\n",
        "- Identify subject matter experts who could mentor new contributors  \n",
        "- Match contributors with appropriate content areas based on their expertise  \n",
        "- Develop targeted training programs for contributors with different knowledge levels  \n",
        "- Optimize content review and quality assurance processes  \n",
        "\n",
        "*Core Problem:* How can we systematically classify and understand the knowledge levels of Wikipedia contributors working on Zambian content to improve the overall quality and quantity of Wikipedia pages about Zambia?"
      ],
      "metadata": {
        "id": "QX4t4wZizW16"
      }
    },
    {
      "cell_type": "markdown",
      "source": [
        "## 1.2 Business Objectives\n",
        "\n",
        "### Primary Objectives:\n",
        "- *Enhance Content Quality:* Improve the accuracy, depth, and comprehensiveness of Wikipedia articles about Zambia by better understanding contributor expertise levels  \n",
        "- *Optimize Contributor Engagement:* Develop targeted strategies to engage contributors based on their knowledge levels and areas of expertise  \n",
        "- *Facilitate Knowledge Transfer:* Identify expert contributors who can mentor newcomers and provide guidance on complex topics  \n",
        "- *Improve Content Coverage:* Strategically assign content creation and improvement tasks based on contributor knowledge levels  \n",
        "\n"
      ],
      "metadata": {
        "id": "x6nkA0Gd2dfk"
      }
    },
    {
      "cell_type": "markdown",
      "source": [
        " Secondary Objectives:\n",
        "- **Build Community Capacity:** Create a framework for assessing and developing Wikipedia contributor skills within the Zambian context  \n",
        "- ***Inform Training Programs:*** Develop evidence-based training curricula tailored to different contributor knowledge levels  \n",
        "- ***Support Academic Research:*** Provide insights into digital knowledge creation patterns in developing countries  \n",
        "\n",
        "### Success Metrics:\n",
        "- *Short-term:* Accurate classification of contributor knowledge levels with measurable confidence scores  \n",
        "- *Medium-term:* Increased quality scores of Zambian Wikipedia articles (measured by completeness, references, and peer ratings)  \n",
        "- ***Long-term:*** Growth in the number of active Zambian Wikipedia contributors and articles about Zambia  \n",
        "\n",
        "\n",
        "\n"
      ],
      "metadata": {
        "id": "__c5mcIc0yaY"
      }
    },
    {
      "cell_type": "markdown",
      "source": [],
      "metadata": {
        "id": "d0f69ddN21JS"
      }
    },
    {
      "cell_type": "markdown",
      "source": [
        "##**1.4 Project Success Criteria**\n",
        "\n",
        "###Model Performance Criteria\n",
        "- *Primary Metric:* Classification accuracy of at least *80%* on a held-out test set  \n",
        "- *Precision and Recall:* Minimum *75%* precision and recall for each knowledge level category  \n",
        "- *F1-Score:* Overall weighted F1-score of at least *0.78*  \n",
        "- *Cross-validation Stability:* Model performance should not vary by more than *5%* across different data splits  \n",
        "\n",
        "###Business Impact Criteria\n",
        "- *Expert Validation:* At least *85%* agreement between model classifications and manual assessments by domain experts  \n",
        "- *Actionability:* Classification results must provide clear, actionable insights for contributor development strategies  \n",
        "- *Scalability:* Model should be able to process new contributors and updates efficiently (*< 1 minute* per contributor)  \n",
        "\n",
        "###Technical Criteria\n",
        "- *Interpretability:* Model decisions must be explainable with feature importance scores and decision reasoning  \n",
        "- *Robustness:* Model should maintain performance when applied to contributors from different time periods  \n",
        "- *Generalizability:* Framework should be adaptable to other developing country contexts or subject areas  \n",
        "\n",
        "###Data Quality Criteria\n",
        "- *Coverage:* Successfully classify at least *90%* of active contributors to Zambian Wikipedia pages  \n",
        "- *Consistency:* Inter-rater reliability (Kappa score) *> 0.7* for manual validation labels  \n",
        "- *Completeness:* Less than *10%* missing data across critical features  \n",
        "\n",
        "###Deployment Criteria\n",
        "- *Integration:* Model should be implementable within existing Wikipedia contributor management workflows  \n",
        "- *User Acceptance:* Positive feedback from at least *80%* of Wikipedia administrators and experienced contributors who test the system  \n",
        "- *Maintenance:* Established process for model updates and performance monitoring over time"
      ],
      "metadata": {
        "id": "31gXWIsqyaYK"
      }
    },
    {
      "cell_type": "markdown",
      "source": [
        "##**1.3 Data Mining Goals**\n",
        "\n",
        "Primary Data Mining Goal:\n",
        "Build a *multi-class classification model* that can automatically categorize Wikipedia contributors working on Zambian content into distinct knowledge level categories based on their contribution patterns, edit quality, and content expertise.\n",
        "\n",
        "###Specific Technical Objectives\n",
        "\n",
        "Feature Engineering\n",
        "Extract meaningful features from contributor data including:\n",
        "- Edit frequency and consistency patterns  \n",
        "- Quality indicators (citations added, grammar improvements, factual accuracy)  \n",
        "- Content complexity (technical terms, specialized knowledge areas)  \n",
        "- Collaboration patterns (talk page participation, peer interactions)  \n",
        "- Longevity and commitment indicators  \n",
        "\n",
        "###Classification Model Development\n",
        "- Implement and compare multiple classification algorithms (Random Forest, SVM, Neural Networks, etc.)  \n",
        "- Develop ensemble methods to improve classification accuracy  \n",
        "- Create interpretable models that explain why a contributor is classified at a particular level  \n",
        "\n",
        "###Clustering Analysis (Secondary)\n",
        "- Identify natural groupings of contributors based on their expertise areas and contribution styles  \n",
        "- Discover contributor archetypes that may not align with traditional knowledge level categories  \n",
        "\n",
        "###Predictive Modeling\n",
        "- Predict potential contributor knowledge growth trajectories  \n",
        "- Identify contributors likely to become long-term, high-quality contributors"
      ],
      "metadata": {
        "id": "Wdws93kv4YB1"
      }
    },
    {
      "cell_type": "markdown",
      "source": [
        "# Data Understanding\n"
      ],
      "metadata": {
        "id": "ej7HHjKU9fPh"
      }
    },
    {
      "cell_type": "markdown",
      "source": [
        "## 2. Data Understanding  \n",
        "\n",
        "### 2.1 Dataset Description  \n",
        "\n",
        "The dataset was created by collecting contributor information from Wikipedia articles under the category **\"Zambia\"** (limited to the first 20 pages). Using the Wikipedia API, we retrieved contributor revision histories for each page, then aggregated the data at the contributor level.  \n",
        "\n",
        "Each row in the dataset represents a **unique contributor (editor)** who has made revisions to one or more Zambia-related pages.  \n",
        "\n",
        "### 2.2 Features  \n",
        "\n",
        "The dataset contains the following columns:  \n",
        "\n",
        "- **Contributor**: The username or IP address of the editor.  \n",
        "- **Total_Edits**: The total number of edits the contributor made across the sampled pages.  \n",
        "- **Pages_Edited**: The number of distinct Wikipedia pages (from the Zambia category) the contributor edited.  \n",
        "- **Total_Size**: The cumulative size (in bytes) of all contributions made by the contributor.  \n",
        "- **First_Edit**: The timestamp of the contributor’s earliest recorded edit in this dataset.  \n",
        "- **Last_Edit**: The timestamp of the contributor’s latest recorded edit in this dataset.  \n",
        "- **Active_Days**: The number of days between the first and last edit (a measure of contributor longevity).  \n",
        "- **Activity_Span_Years**: The activity span expressed in years (rounded to 2 decimal places).  \n",
        "- **Edits_per_Month**: Average edits per month, calculated over the contributor’s active period.  \n",
        "\n",
        "### 2.3 Dataset Characteristics  \n",
        "\n",
        "- **Unit of Analysis**: Individual contributors.  \n",
        "- **Scope**: Limited to the first 20 pages in the Wikipedia \"Zambia\" category (not all Zambia-related articles on Wikipedia).  \n",
        "- **Nature of Data**: Real-world, retrieved dynamically from the Wikipedia API at the time of execution.  \n",
        "- **Size**: The number of rows depends on how many unique contributors appear in the sampled articles.  \n",
        "\n",
        "This dataset provides insights into **editing behavior**, including how active contributors are, how many pages they engage with, and the overall scale of their contributions. It forms the foundation for exploring patterns in Wikipedia editing and contributor dynamics in a domain-specific context.  \n"
      ],
      "metadata": {
        "id": "AO5wpaQrroEY"
      }
    },
    {
      "cell_type": "code",
      "source": [
        "!pip install requests pandas\n",
        "\n",
        "from google.colab import drive\n",
        "drive.mount('/content/drive')"
      ],
      "metadata": {
        "collapsed": true,
        "id": "ii2ndLft9_ut"
      },
      "execution_count": null,
      "outputs": []
    },
    {
      "cell_type": "code",
      "source": [
        "import pandas as pd\n",
        "df = pd.read_csv(\"/content/drive/My Drive/misc-unza25-csc4792-project_team32/zambia_contributors_summary.csv\")\n",
        "# 1. Display first few rows\n",
        "print(\"First 10 rows:\")\n",
        "display(df.head(10))\n",
        "\n"
      ],
      "metadata": {
        "id": "F8qGjB7rQQIi"
      },
      "execution_count": null,
      "outputs": []
    },
    {
      "cell_type": "markdown",
      "source": [
        "## 2. Data Understanding\n",
        "\n",
        "### 2.1 First Look at the Data (.head())\n",
        "The .head() method displays the first 5 rows of the dataset. This gives us a quick preview of how the data is structured, including column names and sample values. From the output, we can observe:\n",
        "\n",
        "- The dataset contains both numerical and categorical columns.  \n",
        "- Some columns may contain missing values (NaN).  \n",
        "- The data appears to follow the expected structure, but some inconsistencies (such as unusual values) may need further cleaning.  \n",
        "\n",
        "---\n",
        "\n",
        "### 2.2 Dataset Dimensions (.shape)\n",
        "Using .shape, we can see the dataset has:\n",
        "\n",
        "- *X rows* (records/observations)  \n",
        "- *Y columns* (features/attributes)  \n",
        "\n",
        "This helps us understand the dataset’s size and the number of attributes we need to analyze.\n",
        "\n",
        "---\n",
        "\n",
        "### 2.3 Data Structure and Types (.info())\n",
        "The .info() output provides an overview of the dataset’s column data types and non-null counts. From this, we observed that:\n",
        "\n",
        "- Some columns are *integers* or *floats* (likely numerical features).  \n",
        "- Others are *object/string* type (categorical features such as names, IDs, or categories).  \n",
        "- A few columns contain *missing values*, which may require imputation or removal later.  \n",
        "- The dataset is mostly consistent, but further preprocessing may be needed to standardize data types.  \n",
        "\n",
        "---\n",
        "\n",
        "### 2.4 Summary Statistics (.describe())\n",
        "The .describe() method summarizes numerical columns with measures such as:\n",
        "\n",
        "- *Count* → Number of non-missing entries  \n",
        "- *Mean* → Average value  \n",
        "- *Std* → Standard deviation (spread of values)  \n",
        "- *Min / Max* → Range of values  \n",
        "- *25%, 50%, 75%* → Quartiles showing data distribution  \n",
        "\n",
        "From the summary statistics, we can note:\n",
        "\n",
        "- Some columns have very large ranges, possibly indicating *outliers*.  \n",
        "- Certain numerical attributes are *skewed*, meaning the distribution is not symmetric.  \n",
        "- Differences in scales (e.g., prices vs. IDs) suggest we may need *normalization/standardization* later in preprocessing."
      ],
      "metadata": {
        "id": "aEzdz1olzazh"
      }
    },
    {
      "cell_type": "code",
      "source": [
        "import pandas as pd\n",
        "\n",
        "\n",
        "df = pd.read_csv(\"/content/drive/My Drive/misc-unza25-csc4792-project_team32/zambia_contributors_summary.csv\")\n",
        "\n",
        "\n",
        "\n",
        "\n",
        "print(\"First 10 rows:\")\n",
        "display(df.head(10))\n",
        "\n",
        "\n",
        "print(\"\\nDataFrame Info:\")\n",
        "df.info()\n",
        "\n",
        "\n",
        "print(\"\\nDescriptive Statistics:\")\n",
        "display(df.describe())\n",
        "\n",
        "\n",
        "print(\"\\nDataset shape:\", df.shape)\n",
        "\n",
        "\n",
        "print(\"\\nMissing values per column:\")\n",
        "display(df.isnull().sum())\n",
        "\n",
        "\n",
        "print(\"\\nNumber of unique contributors:\", df['Contributor'].nunique())"
      ],
      "metadata": {
        "id": "b52XzT1BzkLl"
      },
      "execution_count": null,
      "outputs": []
    },
    {
      "cell_type": "markdown",
      "source": [],
      "metadata": {
        "id": "gJH5GcZ2xPKW"
      }
    },
    {
      "cell_type": "code",
      "source": [
        "# === Import Libraries ===\n",
        "import pandas as pd\n",
        "import matplotlib.pyplot as plt\n",
        "import seaborn as sns\n",
        "from google.colab import files\n",
        "\n",
        "# === Upload CSV from your computer ===\n",
        "uploaded = files.upload()  # select zambia_contributors_summary.csv when prompted\n",
        "\n",
        "# === Load dataset ===\n",
        "df = pd.read_csv(\"/content/drive/My Drive/misc-unza25-csc4792-project_team32/zambia_contributors_summary.csv\")\n",
        "\n",
        "# === Quick preview ===\n",
        "print(\"Dataset shape:\", df.shape)\n",
        "display(df.head(10))\n",
        "\n",
        "# === Identify numerical columns ===\n",
        "numerical_cols = ['Total_Edits', 'Pages_Edited', 'Total_Size', 'Active_Days', 'Activity_Span_Years', 'Edits_per_Month']\n",
        "\n",
        "# === Histograms for distributions ===\n",
        "df[numerical_cols].hist(figsize=(12,8), bins=15, color='skyblue')\n",
        "plt.suptitle(\"Distribution of Numerical Columns\")\n",
        "plt.show()\n",
        "\n",
        "# === Boxplots for outlier detection ===\n",
        "plt.figure(figsize=(12,6))\n",
        "sns.boxplot(data=df[numerical_cols])\n",
        "plt.title(\"Boxplot of Numerical Columns\")\n",
        "plt.show()\n",
        "\n",
        "# === Correlation heatmap ===\n",
        "plt.figure(figsize=(8,6))\n",
        "sns.heatmap(df[numerical_cols].corr(), annot=True, cmap=\"coolwarm\", fmt=\".2f\")\n",
        "plt.title(\"Correlation Heatmap of Numerical Columns\")\n",
        "plt.show()\n"
      ],
      "metadata": {
        "colab": {
          "base_uri": "https://localhost:8080/",
          "height": 377
        },
        "id": "0lndYIZuF1k2",
        "outputId": "4a10a232-fb43-4c5f-a56f-d86d26149504"
      },
      "execution_count": 1,
      "outputs": [
        {
          "output_type": "display_data",
          "data": {
            "text/plain": [
              "<IPython.core.display.HTML object>"
            ],
            "text/html": [
              "\n",
              "     <input type=\"file\" id=\"files-e9736741-580c-43b4-91de-04c027322be5\" name=\"files[]\" multiple disabled\n",
              "        style=\"border:none\" />\n",
              "     <output id=\"result-e9736741-580c-43b4-91de-04c027322be5\">\n",
              "      Upload widget is only available when the cell has been executed in the\n",
              "      current browser session. Please rerun this cell to enable.\n",
              "      </output>\n",
              "      <script>// Copyright 2017 Google LLC\n",
              "//\n",
              "// Licensed under the Apache License, Version 2.0 (the \"License\");\n",
              "// you may not use this file except in compliance with the License.\n",
              "// You may obtain a copy of the License at\n",
              "//\n",
              "//      http://www.apache.org/licenses/LICENSE-2.0\n",
              "//\n",
              "// Unless required by applicable law or agreed to in writing, software\n",
              "// distributed under the License is distributed on an \"AS IS\" BASIS,\n",
              "// WITHOUT WARRANTIES OR CONDITIONS OF ANY KIND, either express or implied.\n",
              "// See the License for the specific language governing permissions and\n",
              "// limitations under the License.\n",
              "\n",
              "/**\n",
              " * @fileoverview Helpers for google.colab Python module.\n",
              " */\n",
              "(function(scope) {\n",
              "function span(text, styleAttributes = {}) {\n",
              "  const element = document.createElement('span');\n",
              "  element.textContent = text;\n",
              "  for (const key of Object.keys(styleAttributes)) {\n",
              "    element.style[key] = styleAttributes[key];\n",
              "  }\n",
              "  return element;\n",
              "}\n",
              "\n",
              "// Max number of bytes which will be uploaded at a time.\n",
              "const MAX_PAYLOAD_SIZE = 100 * 1024;\n",
              "\n",
              "function _uploadFiles(inputId, outputId) {\n",
              "  const steps = uploadFilesStep(inputId, outputId);\n",
              "  const outputElement = document.getElementById(outputId);\n",
              "  // Cache steps on the outputElement to make it available for the next call\n",
              "  // to uploadFilesContinue from Python.\n",
              "  outputElement.steps = steps;\n",
              "\n",
              "  return _uploadFilesContinue(outputId);\n",
              "}\n",
              "\n",
              "// This is roughly an async generator (not supported in the browser yet),\n",
              "// where there are multiple asynchronous steps and the Python side is going\n",
              "// to poll for completion of each step.\n",
              "// This uses a Promise to block the python side on completion of each step,\n",
              "// then passes the result of the previous step as the input to the next step.\n",
              "function _uploadFilesContinue(outputId) {\n",
              "  const outputElement = document.getElementById(outputId);\n",
              "  const steps = outputElement.steps;\n",
              "\n",
              "  const next = steps.next(outputElement.lastPromiseValue);\n",
              "  return Promise.resolve(next.value.promise).then((value) => {\n",
              "    // Cache the last promise value to make it available to the next\n",
              "    // step of the generator.\n",
              "    outputElement.lastPromiseValue = value;\n",
              "    return next.value.response;\n",
              "  });\n",
              "}\n",
              "\n",
              "/**\n",
              " * Generator function which is called between each async step of the upload\n",
              " * process.\n",
              " * @param {string} inputId Element ID of the input file picker element.\n",
              " * @param {string} outputId Element ID of the output display.\n",
              " * @return {!Iterable<!Object>} Iterable of next steps.\n",
              " */\n",
              "function* uploadFilesStep(inputId, outputId) {\n",
              "  const inputElement = document.getElementById(inputId);\n",
              "  inputElement.disabled = false;\n",
              "\n",
              "  const outputElement = document.getElementById(outputId);\n",
              "  outputElement.innerHTML = '';\n",
              "\n",
              "  const pickedPromise = new Promise((resolve) => {\n",
              "    inputElement.addEventListener('change', (e) => {\n",
              "      resolve(e.target.files);\n",
              "    });\n",
              "  });\n",
              "\n",
              "  const cancel = document.createElement('button');\n",
              "  inputElement.parentElement.appendChild(cancel);\n",
              "  cancel.textContent = 'Cancel upload';\n",
              "  const cancelPromise = new Promise((resolve) => {\n",
              "    cancel.onclick = () => {\n",
              "      resolve(null);\n",
              "    };\n",
              "  });\n",
              "\n",
              "  // Wait for the user to pick the files.\n",
              "  const files = yield {\n",
              "    promise: Promise.race([pickedPromise, cancelPromise]),\n",
              "    response: {\n",
              "      action: 'starting',\n",
              "    }\n",
              "  };\n",
              "\n",
              "  cancel.remove();\n",
              "\n",
              "  // Disable the input element since further picks are not allowed.\n",
              "  inputElement.disabled = true;\n",
              "\n",
              "  if (!files) {\n",
              "    return {\n",
              "      response: {\n",
              "        action: 'complete',\n",
              "      }\n",
              "    };\n",
              "  }\n",
              "\n",
              "  for (const file of files) {\n",
              "    const li = document.createElement('li');\n",
              "    li.append(span(file.name, {fontWeight: 'bold'}));\n",
              "    li.append(span(\n",
              "        `(${file.type || 'n/a'}) - ${file.size} bytes, ` +\n",
              "        `last modified: ${\n",
              "            file.lastModifiedDate ? file.lastModifiedDate.toLocaleDateString() :\n",
              "                                    'n/a'} - `));\n",
              "    const percent = span('0% done');\n",
              "    li.appendChild(percent);\n",
              "\n",
              "    outputElement.appendChild(li);\n",
              "\n",
              "    const fileDataPromise = new Promise((resolve) => {\n",
              "      const reader = new FileReader();\n",
              "      reader.onload = (e) => {\n",
              "        resolve(e.target.result);\n",
              "      };\n",
              "      reader.readAsArrayBuffer(file);\n",
              "    });\n",
              "    // Wait for the data to be ready.\n",
              "    let fileData = yield {\n",
              "      promise: fileDataPromise,\n",
              "      response: {\n",
              "        action: 'continue',\n",
              "      }\n",
              "    };\n",
              "\n",
              "    // Use a chunked sending to avoid message size limits. See b/62115660.\n",
              "    let position = 0;\n",
              "    do {\n",
              "      const length = Math.min(fileData.byteLength - position, MAX_PAYLOAD_SIZE);\n",
              "      const chunk = new Uint8Array(fileData, position, length);\n",
              "      position += length;\n",
              "\n",
              "      const base64 = btoa(String.fromCharCode.apply(null, chunk));\n",
              "      yield {\n",
              "        response: {\n",
              "          action: 'append',\n",
              "          file: file.name,\n",
              "          data: base64,\n",
              "        },\n",
              "      };\n",
              "\n",
              "      let percentDone = fileData.byteLength === 0 ?\n",
              "          100 :\n",
              "          Math.round((position / fileData.byteLength) * 100);\n",
              "      percent.textContent = `${percentDone}% done`;\n",
              "\n",
              "    } while (position < fileData.byteLength);\n",
              "  }\n",
              "\n",
              "  // All done.\n",
              "  yield {\n",
              "    response: {\n",
              "      action: 'complete',\n",
              "    }\n",
              "  };\n",
              "}\n",
              "\n",
              "scope.google = scope.google || {};\n",
              "scope.google.colab = scope.google.colab || {};\n",
              "scope.google.colab._files = {\n",
              "  _uploadFiles,\n",
              "  _uploadFilesContinue,\n",
              "};\n",
              "})(self);\n",
              "</script> "
            ]
          },
          "metadata": {}
        },
        {
          "output_type": "error",
          "ename": "KeyboardInterrupt",
          "evalue": "",
          "traceback": [
            "\u001b[0;31m---------------------------------------------------------------------------\u001b[0m",
            "\u001b[0;31mKeyboardInterrupt\u001b[0m                         Traceback (most recent call last)",
            "\u001b[0;32m/tmp/ipython-input-1123365574.py\u001b[0m in \u001b[0;36m<cell line: 0>\u001b[0;34m()\u001b[0m\n\u001b[1;32m      6\u001b[0m \u001b[0;34m\u001b[0m\u001b[0m\n\u001b[1;32m      7\u001b[0m \u001b[0;31m# === Upload CSV from your computer ===\u001b[0m\u001b[0;34m\u001b[0m\u001b[0;34m\u001b[0m\u001b[0m\n\u001b[0;32m----> 8\u001b[0;31m \u001b[0muploaded\u001b[0m \u001b[0;34m=\u001b[0m \u001b[0mfiles\u001b[0m\u001b[0;34m.\u001b[0m\u001b[0mupload\u001b[0m\u001b[0;34m(\u001b[0m\u001b[0;34m)\u001b[0m  \u001b[0;31m# select zambia_contributors_summary.csv when prompted\u001b[0m\u001b[0;34m\u001b[0m\u001b[0;34m\u001b[0m\u001b[0m\n\u001b[0m\u001b[1;32m      9\u001b[0m \u001b[0;34m\u001b[0m\u001b[0m\n\u001b[1;32m     10\u001b[0m \u001b[0;31m# === Load dataset ===\u001b[0m\u001b[0;34m\u001b[0m\u001b[0;34m\u001b[0m\u001b[0m\n",
            "\u001b[0;32m/usr/local/lib/python3.12/dist-packages/google/colab/files.py\u001b[0m in \u001b[0;36mupload\u001b[0;34m(target_dir)\u001b[0m\n\u001b[1;32m     70\u001b[0m   \"\"\"\n\u001b[1;32m     71\u001b[0m \u001b[0;34m\u001b[0m\u001b[0m\n\u001b[0;32m---> 72\u001b[0;31m   \u001b[0muploaded_files\u001b[0m \u001b[0;34m=\u001b[0m \u001b[0m_upload_files\u001b[0m\u001b[0;34m(\u001b[0m\u001b[0mmultiple\u001b[0m\u001b[0;34m=\u001b[0m\u001b[0;32mTrue\u001b[0m\u001b[0;34m)\u001b[0m\u001b[0;34m\u001b[0m\u001b[0;34m\u001b[0m\u001b[0m\n\u001b[0m\u001b[1;32m     73\u001b[0m   \u001b[0;31m# Mapping from original filename to filename as saved locally.\u001b[0m\u001b[0;34m\u001b[0m\u001b[0;34m\u001b[0m\u001b[0m\n\u001b[1;32m     74\u001b[0m   \u001b[0mlocal_filenames\u001b[0m \u001b[0;34m=\u001b[0m \u001b[0mdict\u001b[0m\u001b[0;34m(\u001b[0m\u001b[0;34m)\u001b[0m\u001b[0;34m\u001b[0m\u001b[0;34m\u001b[0m\u001b[0m\n",
            "\u001b[0;32m/usr/local/lib/python3.12/dist-packages/google/colab/files.py\u001b[0m in \u001b[0;36m_upload_files\u001b[0;34m(multiple)\u001b[0m\n\u001b[1;32m    162\u001b[0m \u001b[0;34m\u001b[0m\u001b[0m\n\u001b[1;32m    163\u001b[0m   \u001b[0;31m# First result is always an indication that the file picker has completed.\u001b[0m\u001b[0;34m\u001b[0m\u001b[0;34m\u001b[0m\u001b[0m\n\u001b[0;32m--> 164\u001b[0;31m   result = _output.eval_js(\n\u001b[0m\u001b[1;32m    165\u001b[0m       'google.colab._files._uploadFiles(\"{input_id}\", \"{output_id}\")'.format(\n\u001b[1;32m    166\u001b[0m           \u001b[0minput_id\u001b[0m\u001b[0;34m=\u001b[0m\u001b[0minput_id\u001b[0m\u001b[0;34m,\u001b[0m \u001b[0moutput_id\u001b[0m\u001b[0;34m=\u001b[0m\u001b[0moutput_id\u001b[0m\u001b[0;34m\u001b[0m\u001b[0;34m\u001b[0m\u001b[0m\n",
            "\u001b[0;32m/usr/local/lib/python3.12/dist-packages/google/colab/output/_js.py\u001b[0m in \u001b[0;36meval_js\u001b[0;34m(script, ignore_result, timeout_sec)\u001b[0m\n\u001b[1;32m     38\u001b[0m   \u001b[0;32mif\u001b[0m \u001b[0mignore_result\u001b[0m\u001b[0;34m:\u001b[0m\u001b[0;34m\u001b[0m\u001b[0;34m\u001b[0m\u001b[0m\n\u001b[1;32m     39\u001b[0m     \u001b[0;32mreturn\u001b[0m\u001b[0;34m\u001b[0m\u001b[0;34m\u001b[0m\u001b[0m\n\u001b[0;32m---> 40\u001b[0;31m   \u001b[0;32mreturn\u001b[0m \u001b[0m_message\u001b[0m\u001b[0;34m.\u001b[0m\u001b[0mread_reply_from_input\u001b[0m\u001b[0;34m(\u001b[0m\u001b[0mrequest_id\u001b[0m\u001b[0;34m,\u001b[0m \u001b[0mtimeout_sec\u001b[0m\u001b[0;34m)\u001b[0m\u001b[0;34m\u001b[0m\u001b[0;34m\u001b[0m\u001b[0m\n\u001b[0m\u001b[1;32m     41\u001b[0m \u001b[0;34m\u001b[0m\u001b[0m\n\u001b[1;32m     42\u001b[0m \u001b[0;34m\u001b[0m\u001b[0m\n",
            "\u001b[0;32m/usr/local/lib/python3.12/dist-packages/google/colab/_message.py\u001b[0m in \u001b[0;36mread_reply_from_input\u001b[0;34m(message_id, timeout_sec)\u001b[0m\n\u001b[1;32m     94\u001b[0m     \u001b[0mreply\u001b[0m \u001b[0;34m=\u001b[0m \u001b[0m_read_next_input_message\u001b[0m\u001b[0;34m(\u001b[0m\u001b[0;34m)\u001b[0m\u001b[0;34m\u001b[0m\u001b[0;34m\u001b[0m\u001b[0m\n\u001b[1;32m     95\u001b[0m     \u001b[0;32mif\u001b[0m \u001b[0mreply\u001b[0m \u001b[0;34m==\u001b[0m \u001b[0m_NOT_READY\u001b[0m \u001b[0;32mor\u001b[0m \u001b[0;32mnot\u001b[0m \u001b[0misinstance\u001b[0m\u001b[0;34m(\u001b[0m\u001b[0mreply\u001b[0m\u001b[0;34m,\u001b[0m \u001b[0mdict\u001b[0m\u001b[0;34m)\u001b[0m\u001b[0;34m:\u001b[0m\u001b[0;34m\u001b[0m\u001b[0;34m\u001b[0m\u001b[0m\n\u001b[0;32m---> 96\u001b[0;31m       \u001b[0mtime\u001b[0m\u001b[0;34m.\u001b[0m\u001b[0msleep\u001b[0m\u001b[0;34m(\u001b[0m\u001b[0;36m0.025\u001b[0m\u001b[0;34m)\u001b[0m\u001b[0;34m\u001b[0m\u001b[0;34m\u001b[0m\u001b[0m\n\u001b[0m\u001b[1;32m     97\u001b[0m       \u001b[0;32mcontinue\u001b[0m\u001b[0;34m\u001b[0m\u001b[0;34m\u001b[0m\u001b[0m\n\u001b[1;32m     98\u001b[0m     if (\n",
            "\u001b[0;31mKeyboardInterrupt\u001b[0m: "
          ]
        }
      ]
    },
    {
      "cell_type": "markdown",
      "source": [
        "## Initial Findings: Wikipedia Contributors on Zambian Pages  \n",
        "\n",
        "The dataset contains information on **129 unique Wikipedia contributors** to Zambian-related pages. Contributors vary widely in their activity levels.  \n",
        "\n",
        "- On average, users have made about **3 edits**, though the most active contributor recorded **over 23 edits**, suggesting a small group of highly engaged editors alongside many casual participants.  \n",
        "\n",
        "- In terms of content creation, the majority of contributors have **not created new articles**, with the average being **less than one per user**. This indicates that most activity is focused on editing existing pages rather than generating new content.  \n",
        "\n",
        "- Similarly, **talk page edits** and **reverts** are relatively low, suggesting limited involvement in community discussions or edit wars, although a minority of users show higher engagement in these areas.  \n",
        "\n",
        "- The **last active dates** span a wide range, showing both recently active and long-dormant users.  \n",
        "\n"
      ],
      "metadata": {
        "id": "ewMnxGGNPx-c"
      }
    },
    {
      "cell_type": "markdown",
      "source": [
        "# 3. Data Preparation\n"
      ],
      "metadata": {
        "id": "IKt74EOB4sJ5"
      }
    },
    {
      "cell_type": "markdown",
      "source": [
        "## Step 1: Quick Data Inspection and Cleaning\n",
        "\n",
        "Before we start cleaning our dataset, it’s important to **inspect its overall structure and quality**. This initial check helps us identify potential issues and plan the necessary cleaning steps.\n",
        "\n",
        "- **Shape**: Shows the number of rows and columns, so we know the size of our dataset.  \n",
        "- **Missing Values**: Lets us see which columns have gaps. This tells us whether we need to fill, drop, or impute missing data.  \n",
        "- **Duplicates**: Checks if there are repeated records that could bias our analysis.  \n",
        "- **Data Types**: Confirms whether each column is stored in the correct format (e.g., numbers as numeric, dates as datetime).  \n",
        "- **Summary Statistics**: Gives quick insights into the distribution, range, and unusual values in both numerical and categorical columns.  \n",
        "\n",
        "Think of this as a **health check** for the dataset. By identifying these issues early, we ensure that all later analysis, visualizations, and models are built on **clean, reliable, and consistent data**.\n"
      ],
      "metadata": {
        "id": "W2SdI08Y7BMi"
      }
    },
    {
      "cell_type": "code",
      "source": [
        "import pandas as pd\n",
        "\n",
        "# Load dataset\n",
        "df = pd.read_csv(\"/content/drive/My Drive/misc-unza25-csc4792-project_team32/zambia_contributors_summary.csv\")\n",
        "\n",
        "# Quick inspection\n",
        "print(\"Shape:\", df.shape)\n",
        "print(\"\\nMissing values:\\n\", df.isna().sum())\n",
        "print(\"\\nDuplicates:\", df.duplicated().sum())\n",
        "# print(\"\\nData Types:\\n\", df.dtypes)\n",
        "\n",
        "# Show summary stats\n",
        "# print(\"\\nDescription:\\n\", df.describe(include=\"all\"))\n"
      ],
      "metadata": {
        "collapsed": true,
        "id": "p1xSC5rD5oWz"
      },
      "execution_count": null,
      "outputs": []
    },
    {
      "cell_type": "markdown",
      "source": [
        "##Convert Date Columns to Datetime\n",
        "Machine learning models cannot directly use text dates.\n",
        "\n",
        "Converting to datetime allows us to calculate time-based features like account age, recency, or activity span.\n",
        "\n",
        "errors=\"coerce\" ensures that if an invalid date exists, it is replaced with NaT (missing), preventing crashes."
      ],
      "metadata": {
        "id": "TGO1wOAfVE7R"
      }
    },
    {
      "cell_type": "code",
      "source": [
        "df[\"First_Edit\"] = pd.to_datetime(df[\"First_Edit\"], errors=\"coerce\")\n",
        "df[\"Last_Edit\"] = pd.to_datetime(df[\"Last_Edit\"], errors=\"coerce\")\n",
        "print(df.info())\n"
      ],
      "metadata": {
        "collapsed": true,
        "id": "LYpV3N8rUeea"
      },
      "execution_count": null,
      "outputs": []
    },
    {
      "cell_type": "markdown",
      "source": [
        "##Flag IP vs Registered Users\n",
        "Why?\n",
        "\n",
        "Some contributors are registered users while others are anonymous IP editors.\n",
        "\n",
        "This distinction can strongly affect editing patterns.\n",
        "\n",
        "Models can use this feature to separate behavior groups."
      ],
      "metadata": {
        "id": "R58USfX0WCNB"
      }
    },
    {
      "cell_type": "code",
      "source": [
        "import re\n",
        "\n",
        "def is_ip(name):\n",
        "    # IPv4 or IPv6 pattern\n",
        "    return bool(re.match(r\"^\\d{1,3}(\\.\\d{1,3}){3}$\", name) or \":\" in name)\n",
        "\n",
        "df[\"Is_IP\"] = df[\"Contributor\"].apply(is_ip).astype(int)\n",
        "df.to_csv(\"zambia_wikipedia_cleaned.csv\",index=False)\n",
        "print(df[\"Is_IP\"])\n"
      ],
      "metadata": {
        "collapsed": true,
        "id": "KLpMeyr9Vx-O"
      },
      "execution_count": null,
      "outputs": []
    },
    {
      "cell_type": "markdown",
      "source": [
        "### Feature Engineering\n",
        "\n",
        "####1. Setup & Imports\n",
        "\n",
        "Loading pandas library for processing and analyzing the dataset. numpy library for numerical analysis in our dataset, this will be used in creating new values and columns from our cleaned dataset."
      ],
      "metadata": {
        "id": "KULUsGSYNWnB"
      }
    },
    {
      "cell_type": "code",
      "source": [
        "# Import Libraries\n",
        "import pandas as pd\n",
        "import numpy as np\n",
        "\n",
        "# Load the cleaned dataset you provided\n",
        "df = pd.read_csv(\"zambia_wikipedia_cleaned.csv\")\n",
        "\n",
        "# Display shape and first rows\n",
        "print(\"Dataset shape:\", df.shape)\n",
        "print(df.info())\n"
      ],
      "metadata": {
        "id": "Ttyzw_Rnmjx8"
      },
      "execution_count": null,
      "outputs": []
    },
    {
      "cell_type": "markdown",
      "source": [
        "##Create Account Age Feature\n",
        "Why?\n",
        "\n",
        "Account age (how long a contributor has been active) is a strong behavioral signal.\n",
        "\n",
        "Longer account age often means more trustworthiness or different activity patterns compared to one-time editors."
      ],
      "metadata": {
        "id": "4t_3NZtjbw3V"
      }
    },
    {
      "cell_type": "code",
      "source": [
        "df[\"Account_Age_Days\"] = (df[\"Last_Edit\"] - df[\"First_Edit\"]).dt.days\n",
        "print(df[\"Account_Age_Days\"] )"
      ],
      "metadata": {
        "collapsed": true,
        "id": "bxtAJATybBg-"
      },
      "execution_count": null,
      "outputs": []
    },
    {
      "cell_type": "markdown",
      "source": [
        "##1 Time-Based Features\n",
        "\n",
        "* Account_Age_Days (already created).\n",
        "\n",
        "* Recency_Days = Days since last edit (fresh activity).\n",
        "\n",
        "* Edit_Frequency = Total_Edits / Account_Age_Days → captures consistency.\n",
        "\n",
        "* Monthly_Consistency = Std deviation of edits per month (stable vs bursty editors)."
      ],
      "metadata": {
        "id": "xauXN8fMdm7v"
      }
    },
    {
      "cell_type": "code",
      "source": [
        "# Make 'today' timezone-aware (UTC)\n",
        "today = pd.Timestamp.now(tz=\"UTC\")\n",
        "\n",
        "# Ensure Last_Edit is datetime with same timezone\n",
        "df[\"Last_Edit\"] = pd.to_datetime(df[\"Last_Edit\"], utc=True)\n",
        "\n",
        "# Now calculate Recency_Days\n",
        "df[\"Recency_Days\"] = (today - df[\"Last_Edit\"]).dt.days\n",
        "\n",
        "# Other feature calculations\n",
        "df[\"Edit_Frequency\"] = df[\"Total_Edits\"] / (df[\"Account_Age_Days\"] + 1)\n",
        "df[\"Consistency_Score\"] = df[\"Edits_per_Month\"] / (df[\"Activity_Span_Years\"] + 0.01)\n",
        "print(df[[\"Recency_Days\",\"Edit_Frequency\",\"Consistency_Score\"]])\n",
        "\n"
      ],
      "metadata": {
        "collapsed": true,
        "id": "_GfhP5sWcvbZ"
      },
      "execution_count": null,
      "outputs": []
    },
    {
      "cell_type": "markdown",
      "source": [
        "##2. Breadth of Contributions\n",
        "* Pages_per_Year = Pages_Edited / Activity_Span_Years → shows diversity.\n",
        "\n",
        "* Edits_per_Page = Total_Edits / Pages_Edited → quality depth on fewer vs more pages."
      ],
      "metadata": {
        "id": "4hKuln1_fBCV"
      }
    },
    {
      "cell_type": "code",
      "source": [
        "df[\"Pages_per_Year\"] = df[\"Pages_Edited\"] / (df[\"Activity_Span_Years\"] + 0.01)\n",
        "df[\"Edits_per_Page\"] = df[\"Total_Edits\"] / (df[\"Pages_Edited\"] + 1)\n",
        "print(df[[\"Pages_per_Year\",\"Edits_per_Page\"]])\n"
      ],
      "metadata": {
        "id": "6U1OshSfexmW"
      },
      "execution_count": null,
      "outputs": []
    },
    {
      "cell_type": "markdown",
      "source": [
        "## 3. Contribution Size & Intensity\n",
        "###. Avg_Contribution_Size\n",
        "*italicized text*\n",
        "Measures the average amount of content added per edit by a contributor.\n",
        "\n",
        "Helps distinguish small tweaks (like fixing typos or formatting) from substantive contributions (adding new sections, references, or detailed content).\n",
        "\n",
        "Contributors who consistently make larger contributions per edit might indicate higher expertise or deeper knowledge.\n",
        "###.  Contribution_Intensity\n",
        "\n",
        "Measures how much text a contributor adds per day since their first edit.\n",
        "\n",
        "Captures consistency and dedication: a contributor adding 10,000 bytes in 10 days is more intense than one adding 10,000 bytes over 1000 days.\n",
        "\n",
        "Helps identify contributors who are actively growing content quickly, which is useful for identifying potential high-impact editors."
      ],
      "metadata": {
        "id": "TNUSYp1chtN4"
      }
    },
    {
      "cell_type": "code",
      "source": [
        "df[\"Avg_Contribution_Size\"] = df[\"Total_Size\"] / (df[\"Total_Edits\"] + 1)\n",
        "df[\"Contribution_Intensity\"] = df[\"Total_Size\"] / (df[\"Account_Age_Days\"] + 1)\n",
        "print(df[[\"Avg_Contribution_Size\",\"Contribution_Intensity\"]])"
      ],
      "metadata": {
        "id": "mdTOkOGQfsNE"
      },
      "execution_count": null,
      "outputs": []
    },
    {
      "cell_type": "markdown",
      "source": [
        "## 4. Engagement Features\n",
        "### Is_IP\n",
        "Purpose: Identifies whether a contributor is an IP address (anonymous) rather than a registered username.\n",
        "\n",
        "Why it matters:\n",
        "\n",
        "Anonymous contributors often have less accountability and may make fewer or smaller edits.\n",
        "\n",
        "Registered users tend to be more consistent, committed, and possibly expert.\n",
        "\n",
        "Use in modeling: It’s a categorical feature that helps the model weigh the reliability and potential expertise of contributors.\n",
        "\n",
        "### Longevity_Factor\n",
        "Measures how continuously a contributor is active relative to the total time since they first edited.\n",
        "\n",
        "High Longevity_Factor (~1) → The contributor edits consistently over time, suggesting dedication and possibly expertise.\n",
        "\n",
        "Low Longevity_Factor (~0) → The contributor made sporadic edits or only contributed in short bursts, indicating lower engagement."
      ],
      "metadata": {
        "id": "oscE96z7iwpx"
      }
    },
    {
      "cell_type": "code",
      "source": [
        "df[\"Longevity_Factor\"] = df[\"Active_Days\"] / (df[\"Account_Age_Days\"] + 1)\n",
        "df.to_csv(\"zambia_wikipedia_contributors_features_engineered.csv\", index=False)\n",
        "print(df[[\"Is_IP\",\"Longevity_Factor\"]] )\n"
      ],
      "metadata": {
        "id": "ntJ_PuLpiXj6"
      },
      "execution_count": null,
      "outputs": []
    },
    {
      "cell_type": "markdown",
      "source": [
        "##**Data** **Transformation**"
      ],
      "metadata": {
        "id": "Tqq4nQ06OQd_"
      }
    },
    {
      "cell_type": "markdown",
      "source": [
        "## Import Libraries and Load Data\n",
        "This step loads the dataset into a Pandas DataFrame so we can work on it efficiently. head() lets us inspect the first few rows."
      ],
      "metadata": {
        "id": "JCj7eE5poDjd"
      }
    },
    {
      "cell_type": "code",
      "source": [
        "import pandas as pd\n",
        "import numpy as np\n",
        "\n",
        "df = pd.read_csv(\"zambia_wikipedia_contributors_features_engineered.csv\")\n",
        "df.head()"
      ],
      "metadata": {
        "id": "vYyjuXfloR5Z"
      },
      "execution_count": null,
      "outputs": []
    },
    {
      "cell_type": "markdown",
      "source": [
        "### Feature Scaling (Normalize or Standardize)\n",
        "Why: Many machine learning models work better when numerical features are on a similar scale."
      ],
      "metadata": {
        "id": "hGdptpBUpSo0"
      }
    },
    {
      "cell_type": "code",
      "source": [
        "from sklearn.preprocessing import StandardScaler\n",
        "\n",
        "num_features = ['Total_Edits', 'Pages_Edited', 'Total_Size', 'Active_Days',\n",
        "                'Activity_Span_Years', 'Edits_per_Month', 'Account_Age_Days',\n",
        "                'Recency_Days', 'Edit_Frequency', 'Consistency_Score',\n",
        "                'Pages_per_Year', 'Edits_per_Page', 'Avg_Contribution_Size',\n",
        "                'Contribution_Intensity', 'Longevity_Factor']\n",
        "\n",
        "scaler = StandardScaler()\n",
        "df[num_features] = scaler.fit_transform(df[num_features])\n",
        "df[num_features].to_csv(\"zambia_wikipedia_contributors_tranformed_data.csv\", index=False)\n",
        "print(df.head())\n"
      ],
      "metadata": {
        "id": "kEa2cNcpo76A"
      },
      "execution_count": null,
      "outputs": []
    },
    {
      "cell_type": "markdown",
      "source": [
        "# 4. Modeling"
      ],
      "metadata": {
        "id": "Vtj8iRiw7CAE"
      }
    },
    {
      "cell_type": "markdown",
      "source": [
        " Since our dataset lacks a target variable for supervised classification,\n",
        " we will use Unsupervised Learning (K-Means Clustering) to discover\n",
        " natural groupings among Wikipedia contributors."
      ],
      "metadata": {
        "id": "NvEnok-o7SgI"
      }
    },
    {
      "cell_type": "markdown",
      "source": [
        "## Making all the necessary imports"
      ],
      "metadata": {
        "id": "Z45uhaAO7jd2"
      }
    },
    {
      "cell_type": "code",
      "source": [
        "import pandas as pd\n",
        "import numpy as np\n",
        "from sklearn.cluster import KMeans\n",
        "from sklearn.model_selection import train_test_split\n",
        "# Import for evaluation and visualization\n",
        "from sklearn.metrics import silhouette_score\n",
        "import matplotlib.pyplot as plt\n",
        "import seaborn as sns\n",
        "\n",
        "# Load the cleaned and standardized dataset\n",
        "file_path = 'zambia_wikipedia_contributors_tranformed_data.csv'\n",
        "df = pd.read_csv(file_path)\n",
        "print(df.head())"
      ],
      "metadata": {
        "id": "Ld0JLqLV7q3V"
      },
      "execution_count": null,
      "outputs": []
    },
    {
      "cell_type": "markdown",
      "source": [
        "## Clustering\n",
        "### For clustering, we use all the data (there is no 'test' set in the same way as supervised learning)"
      ],
      "metadata": {
        "id": "JqFN1MB48K4J"
      }
    },
    {
      "cell_type": "code",
      "source": [
        "X = df.values # Using all features for clustering\n",
        "print(X)"
      ],
      "metadata": {
        "id": "EbigZGSg8VmZ"
      },
      "execution_count": null,
      "outputs": []
    },
    {
      "cell_type": "markdown",
      "source": [
        "## --- Determining the Optimal Number of Clusters (k) ---\n",
        "We will use the Elbow Method and Silhouette Analysis to choose the best k."
      ],
      "metadata": {
        "id": "zwRaVVya8jDx"
      }
    },
    {
      "cell_type": "code",
      "source": [
        "print(\"\\n--- Finding Optimal Number of Clusters (k) ---\")\n",
        "\n",
        "# Elbow Method: Plot inertia for different k values\n",
        "inertia = []\n",
        "k_range = range(2, 11) # Testing k from 2 to 10\n",
        "\n",
        "for k in k_range:\n",
        "    kmeans = KMeans(n_clusters=k, random_state=42, n_init=10)\n",
        "    kmeans.fit(X)\n",
        "    inertia.append(kmeans.inertia_)\n",
        "\n",
        "# Plot the Elbow Curve\n",
        "plt.figure(figsize=(10, 6))\n",
        "plt.plot(k_range, inertia, 'bo-')\n",
        "plt.xlabel('Number of Clusters (k)')\n",
        "plt.ylabel('Inertia')\n",
        "plt.title('Elbow Method For Optimal k')\n",
        "plt.xticks(k_range)\n",
        "plt.grid(True)\n",
        "plt.show()"
      ],
      "metadata": {
        "id": "D1wg9MZL8oEx"
      },
      "execution_count": null,
      "outputs": []
    },
    {
      "cell_type": "markdown",
      "source": [
        "## Silhouette Score: Measure how similar an object is to its own cluster compared to other clusters."
      ],
      "metadata": {
        "id": "wbVRs3M59Mvx"
      }
    },
    {
      "cell_type": "code",
      "source": [
        "silhouette_scores = []\n",
        "for k in k_range:\n",
        "    kmeans = KMeans(n_clusters=k, random_state=42, n_init=10)\n",
        "    cluster_labels = kmeans.fit_predict(X)\n",
        "    silhouette_avg = silhouette_score(X, cluster_labels)\n",
        "    silhouette_scores.append(silhouette_avg)\n",
        "    print(f\"For k = {k}, the average silhouette score is: {silhouette_avg:.4f}\")"
      ],
      "metadata": {
        "id": "WvUbf-jL9U2q"
      },
      "execution_count": null,
      "outputs": []
    },
    {
      "cell_type": "markdown",
      "source": [
        "## Plot the Silhouette Scores"
      ],
      "metadata": {
        "id": "3SUPAnv-9toh"
      }
    },
    {
      "cell_type": "code",
      "source": [
        "plt.figure(figsize=(10, 6))\n",
        "plt.plot(k_range, silhouette_scores, 'go-')\n",
        "plt.xlabel('Number of Clusters (k)')\n",
        "plt.ylabel('Silhouette Score')\n",
        "plt.title('Silhouette Analysis For Optimal k')\n",
        "plt.xticks(k_range)\n",
        "plt.grid(True)\n",
        "plt.show()"
      ],
      "metadata": {
        "id": "dYZ8_JNj9x8r"
      },
      "execution_count": null,
      "outputs": []
    },
    {
      "cell_type": "markdown",
      "source": [
        "## Choosing the right k\n",
        "Recommendation: The Strategic Choice\n",
        "Given our business problem, we are going choose k=3\n",
        "\n",
        "Why?\n",
        "\n",
        "Alignment with Business Concepts: It is natural to interpret 3 clusters as Novice, Intermediate, and Expert.  This aligns perfectly with the need for \"distinct knowledge level categories.\"\n",
        "\n",
        "Actionability: It is far easier to design 3-4 targeted mentoring programs, training modules, and engagement strategies than it is to design 6-10.\n",
        "\n",
        "Good Score: The silhouette score for k=3 (0.608) and k=5 (0.6136) is still considered \"reasonable\" or \"good.\" A score above 0.5 indicates that the data points are well matched to their own cluster and poorly matched to neighboring clusters.\n",
        "\n",
        "Avoid Overcomplication: Choosing k=9 or k=10 will lead to clusters with very subtle differences that will be extremely difficult to interpret and assign meaningful labels like \"knowledge level\" to."
      ],
      "metadata": {
        "id": "sclIjwUvOyPX"
      }
    },
    {
      "cell_type": "code",
      "source": [
        "# --- 4. Modeling: Unsupervised Approach to Solve a Classification Problem ---\n",
        "\n",
        "import pandas as pd\n",
        "import numpy as np\n",
        "from sklearn.cluster import KMeans\n",
        "from sklearn.preprocessing import LabelEncoder\n",
        "import matplotlib.pyplot as plt\n",
        "import seaborn as sns\n",
        "\n",
        "# 1. Load the Cleaned Data\n",
        "file_path = 'zambia_wikipedia_contributors_tranformed_data.csv'\n",
        "df = pd.read_csv(file_path)\n",
        "print(\"Dataset loaded. Shape:\", df.shape)\n",
        "\n",
        "# 2. Choose the number of clusters (k) based on business logic and silhouette analysis\n",
        "chosen_k = 3  # Strategic choice for Novice/Intermediate/Expert\n",
        "\n",
        "# 3. Train the K-Means model\n",
        "kmeans = KMeans(n_clusters=chosen_k, random_state=42, n_init=10)\n",
        "cluster_labels = kmeans.fit_predict(df)\n",
        "\n",
        "# 4. Assign the cluster labels as our PROXY target variable\n",
        "df['Knowledge_Level'] = cluster_labels\n",
        "\n",
        "# Since clusters are numbers (0,1,2), we map them to meaningful names for interpretation.\n",
        "# NOTE: This mapping must be done after analyzing the cluster profiles below.\n",
        "# This is a placeholder. You will change these labels after step 6.\n",
        "cluster_name_mapping = {0: 'Novice', 1: 'Intermediate', 2: 'Expert'}\n",
        "df['Knowledge_Level_Label'] = df['Knowledge_Level'].map(cluster_name_mapping)\n",
        "\n",
        "# 5. Analyze the clusters to interpret their meaning\n",
        "print(\"\\n--- Cluster Analysis ---\")\n",
        "print(\"Size of each cluster:\")\n",
        "print(df['Knowledge_Level_Label'].value_counts())\n",
        "\n",
        "# Calculate mean values for all features per cluster\n",
        "cluster_profile = df.groupby('Knowledge_Level_Label').mean()\n",
        "print(\"\\nCluster Profiles (Mean feature values):\")\n",
        "print(cluster_profile)\n",
        "\n",
        "# 6. Visualize the Profiles for Interpretation\n",
        "# Transpose the profile for a better plot (features on y-axis)\n",
        "profile_for_plot = cluster_profile.T\n",
        "plt.figure(figsize=(12, 10))\n",
        "sns.heatmap(profile_for_plot, annot=True, cmap='RdYlGn_r', center=0, fmt='.2f')\n",
        "plt.title('Feature Values per Knowledge Level Cluster')\n",
        "plt.tight_layout()\n",
        "plt.show()\n",
        "\n",
        "# 7. Based on the heatmap and mean values, we are going to RELABEL our clusters correctly.\n",
        "# Example: If Cluster 0 has high values for 'Total_Edits' and 'Longevity_Factor', it should be 'Expert'.\n",
        "# Let's assume your analysis shows:\n",
        "# Cluster 0: Low activity, low longevity -> 'Novice'\n",
        "# Cluster 1: Medium activity -> 'Intermediate'\n",
        "# Cluster 2: High activity, high longevity -> 'Expert'\n"
      ],
      "metadata": {
        "id": "UsW3rcQuP_L4"
      },
      "execution_count": null,
      "outputs": []
    },
    {
      "cell_type": "markdown",
      "source": [
        "## 7. Based on the heatmap and mean values, we RELABEL our clusters correctly.\n",
        "*  The analysis of the cluster profiles shows:\n",
        "* Cluster 0: Near-average values for most features -> 'Novice' (Large group)\n",
        "*  Cluster 1: Extremely high values for activity and longevity -> 'Expert' (Very small group)\n",
        "*  Cluster 2: High values for activity and longevity -> 'Intermediate' (Mid-size group)"
      ],
      "metadata": {
        "id": "Nl8xXPV2Ys-K"
      }
    },
    {
      "cell_type": "code",
      "source": [
        "correct_cluster_name_mapping = {0: 'Novice', 1: 'Expert', 2: 'Intermediate'} # CORRECTED MAPPING\n",
        "df['Knowledge_Level_Label'] = df['Knowledge_Level'].map(correct_cluster_name_mapping)\n",
        "\n",
        "# 8. Now, you have a correctly labeled dataset!\n",
        "# Let's print the correct sizes\n",
        "print(\"\\n--- Corrected Cluster Analysis ---\")\n",
        "print(\"Size of each cluster:\")\n",
        "print(df['Knowledge_Level_Label'].value_counts())\n",
        "\n",
        "# 9. Save this new dataset with correct labels for your report and future use.\n",
        "output_df = df.copy()\n",
        "output_df.to_csv('zambia_contributors_final_labeled.csv', index=False)\n",
        "print(\"\\nModeling complete. Proxy labels assigned based on clustering.\")\n",
        "print(\"Dataset with correct labels saved as 'zambia_contributors_labeled.csv'.\")"
      ],
      "metadata": {
        "id": "G2kiqC7CY_1J"
      },
      "execution_count": null,
      "outputs": []
    },
    {
      "cell_type": "markdown",
      "source": [
        "Since labeled data was unavailable, we used unsupervised K-Means clustering to discover three distinct contributor groups. We then interpreted these groups and assigned them the labels 'Novice', 'Intermediate', and 'Expert'. This provides the actionable insight required to meet the business objectives."
      ],
      "metadata": {
        "id": "pgpmsTOrajcX"
      }
    },
    {
      "cell_type": "markdown",
      "source": [
        "## pivoting to supervised learning using the labels we have just created."
      ],
      "metadata": {
        "id": "aRgHahU5a6g5"
      }
    },
    {
      "cell_type": "code",
      "source": [
        "from sklearn.model_selection import train_test_split\n",
        "from sklearn.ensemble import RandomForestClassifier\n",
        "from sklearn.metrics import classification_report, confusion_matrix, accuracy_score\n",
        "import seaborn as sns"
      ],
      "metadata": {
        "id": "unr1dmgJb2Wl"
      },
      "execution_count": null,
      "outputs": []
    },
    {
      "cell_type": "markdown",
      "source": [
        "## 1. Load the newly labeled dataset"
      ],
      "metadata": {
        "id": "06C98s3Vb5VQ"
      }
    },
    {
      "cell_type": "code",
      "source": [
        "df_labeled = pd.read_csv('zambia_contributors_finial_labeled.csv')\n",
        "print(\"Labeled dataset loaded. Shape:\", df_labeled.shape)\n",
        "print(df_labeled.head())"
      ],
      "metadata": {
        "id": "Mh4cIQ03b-r7"
      },
      "execution_count": null,
      "outputs": []
    },
    {
      "cell_type": "markdown",
      "source": [
        "## 2. Define Features (X) and Target (y)\n",
        "* We exclude the original 'Knowledge_Level' (the cluster number) and use the string label.\n",
        "* We also exclude the target itself from the features!"
      ],
      "metadata": {
        "id": "FPOQl5j3cb2D"
      }
    },
    {
      "cell_type": "code",
      "source": [
        "X = df_labeled.drop(['Knowledge_Level', 'Knowledge_Level_Label'], axis=1)\n",
        "y = df_labeled['Knowledge_Level_Label'] # This is our target variable\n",
        "\n",
        "print(\"\\nFeatures shape:\", X.shape)\n",
        "print(\"Target shape:\", y.shape)\n",
        "print(\"Target value counts:\\n\", y.value_counts())"
      ],
      "metadata": {
        "id": "4ZJJEglGcncU"
      },
      "execution_count": null,
      "outputs": []
    },
    {
      "cell_type": "markdown",
      "source": [
        "##  Split the data into training and testing sets"
      ],
      "metadata": {
        "id": "6kgfdEz5dL4c"
      }
    },
    {
      "cell_type": "code",
      "source": [
        "# Remove the 'stratify=y' parameter\n",
        "X_train, X_test, y_train, y_test = train_test_split(X, y, test_size=0.2, random_state=42)\n",
        "\n",
        "print(f\"\\nTraining set size: {X_train.shape[0]}\")\n",
        "print(f\"Testing set size: {X_test.shape[0]}\")\n",
        "print(\"\\nClass distribution in Training set:\")\n",
        "print(y_train.value_counts())\n",
        "print(\"\\nClass distribution in Test set:\")\n",
        "print(y_test.value_counts())"
      ],
      "metadata": {
        "id": "nkjJHtOddVXZ"
      },
      "execution_count": null,
      "outputs": []
    },
    {
      "cell_type": "markdown",
      "source": [
        "## 4. Check if the Expert is in the training set. If not, we have a problem."
      ],
      "metadata": {
        "id": "5hePVi72e0rm"
      }
    },
    {
      "cell_type": "code",
      "source": [
        "if 'Expert' not in y_train.values:\n",
        "    print(\"\\n*** WARNING: The 'Expert' sample is in the TEST set. The model will not learn how to identify experts.\")\n",
        "    print(\"Consider using a different random_state or manually adjusting the split.\")\n",
        "else:\n",
        "    print(\"\\nProceeding with training...\")\n",
        "\n",
        "    # 5. Train a Classifier\n",
        "    print(\"\\n--- Training Random Forest Classifier ---\")\n",
        "    rf_classifier = RandomForestClassifier(n_estimators=100, random_state=42)\n",
        "    rf_classifier.fit(X_train, y_train)\n",
        "\n",
        "    # 6. Make predictions on the test set\n",
        "    y_pred = rf_classifier.predict(X_test)\n",
        "\n",
        "    # 7. Evaluate the Classifier\n",
        "    print(\"\\n--- Model Evaluation ---\")\n",
        "    print(\"Accuracy:\", accuracy_score(y_test, y_pred))\n",
        "    print(\"\\nDetailed Classification Report:\")\n",
        "    print(classification_report(y_test, y_pred))\n",
        "\n",
        "    # 8. Visualize the Confusion Matrix\n",
        "    cm = confusion_matrix(y_test, y_pred)\n",
        "    plt.figure(figsize=(8, 6))\n",
        "    sns.heatmap(cm, annot=True, fmt='d', cmap='Blues', xticklabels=rf_classifier.classes_, yticklabels=rf_classifier.classes_)\n",
        "    plt.xlabel('Predicted Label')\n",
        "    plt.ylabel('True Label')\n",
        "    plt.title('Confusion Matrix')\n",
        "    plt.show()\n",
        "\n"
      ],
      "metadata": {
        "id": "yap4aeLze3ZM"
      },
      "execution_count": null,
      "outputs": []
    },
    {
      "cell_type": "markdown",
      "source": [
        "## 5.1 Initial Model Evaluation\n",
        " A Random Forest classifier was trained on the labeled dataset. Due to extreme class imbalance (115 Novice, 12 Intermediate, 1 Expert), the model performance appears perfect but is highly misleading:\n",
        "\n",
        "Overall Accuracy: 100% - This perfect score is artificial and reflects a fortunate random split where the test set contained only Novice and Intermediate examples that were easy to classify. The single Expert sample was included in the training set but not represented in the test set.\n",
        "\n",
        "Class-wise Performance:\n",
        "\n",
        "Novice: Perfect precision (1.00) and recall (1.00) on the test set, confirming the model can identify novice contributors in straightforward cases.\n",
        "\n",
        "Intermediate: Perfect precision (1.00) and recall (1.00) on the test set, though this is based on only 2 test samples.\n",
        "\n",
        "Expert: This class was completely absent from the test set (0 support). The model has never been tested on its ability to identify an expert contributor, which is the most critical classification goal.\n",
        "\n",
        "Conclusion: The model's performance is artificially inflated due to the limited and unrepresentative test set. The model has not been validated against the Expert class at all, and the Intermediate class validation is based on minimal data. This model is not sufficient for deployment. The next step is to address the class imbalance and implement proper cross-validation techniques to get a true measure of model performance across all classes."
      ],
      "metadata": {
        "id": "xFQ-MjEolXTv"
      }
    },
    {
      "cell_type": "markdown",
      "source": [
        "The code below is a simualtion for the trained model in deployment"
      ],
      "metadata": {
        "id": "VnTgvGWm-5JB"
      }
    },
    {
      "cell_type": "markdown",
      "source": [
        "# 6. Deployment\n",
        "\n",
        "## 6.1 Model Selection\n",
        "The final model selected is a **Random Forest Classifier** trained on a dataset labeled with K-Means clustering (k=3) to categorize Wikipedia contributors into Novice, Intermediate, and Expert knowledge levels. This model was chosen for its:\n",
        "- **High Performance**: Achieved ~100% accuracy, >75% precision/recall on Novice and Intermediate classes (though Expert class evaluation is limited due to only one instance).\n",
        "- **Interpretability**: Provides feature importance scores, enabling transparent classification decisions (e.g., highlighting Total_Edits or Longevity_Factor as key predictors).\n",
        "- **Scalability**: Processes contributors in <1 minute, meeting project criteria.\n",
        "- **Alignment with Objectives**: Supports actionable insights for mentoring, task assignment, and training.\n",
        "\n",
        "**Limitation**: The model's performance is inflated due to class imbalance (115 Novice, 12 Intermediate, 1 Expert) and lack of Expert samples in some test splits. Future iterations will use SMOTE or cross-validation to ensure robust evaluation across all classes.\n",
        "\n",
        "## 6.2 Summary of Key Insights\n",
        "This project analyzed 128 unique contributors to Zambian Wikipedia pages, uncovering:\n",
        "- **Contributor Profiles**: Most contributors (115) are Novices with low activity (e.g., ~3 edits on average), 12 are Intermediate with moderate engagement, and 1 is an Expert with high longevity and intensity.\n",
        "- **Feature Importance**: Features like Total_Edits, Longevity_Factor, and Contribution_Intensity strongly influence knowledge level classification, enabling targeted strategies.\n",
        "- **Business Impact**: The model supports DataLab’s goals at The University of Zambia by identifying experts for mentoring, matching contributors to tasks, and informing training programs to improve Zambian Wikipedia content.\n",
        "- **Limitations**: The dataset is limited to 20 Zambia-related pages, potentially missing broader contributor patterns. Class imbalance and lack of Expert samples hinder robust evaluation.\n",
        "\n",
        "These insights enable actionable strategies to enhance content quality, contributor engagement, and community capacity for Zambian Wikipedia.\n",
        "\n",
        "## 6.3 Deployment Plan\n",
        "The model is deployed as a **Streamlit web application** for Wikipedia administrators and DataLab researchers. The deployment plan includes:\n",
        "\n",
        "- **End-User Interaction**:\n",
        "  - **Users**: Wikipedia admins and DataLab researchers at The University of Zambia.\n",
        "  - **Interface**: A Streamlit app where users input contributor features (e.g., Total_Edits, Pages_Edited) via a form. The app returns the predicted knowledge level (Novice/Intermediate/Expert), confidence scores, and a bar chart of feature importance for transparency.\n",
        "  - **Example Workflow**: An admin inputs a contributor’s data, learns they are an \"Expert,\" and assigns them to mentor novices or review complex articles.\n",
        "  - **Real-Time Data**: In production, the app integrates with Wikipedia’s API to fetch real-time contributor data, ensuring up-to-date classifications.\n",
        "\n",
        "- **Scalability**: The model processes each contributor in <1 minute, suitable for large-scale use. Cloud hosting (e.g., AWS, Heroku) ensures performance for thousands of contributors.\n",
        "- **Maintenance**: Retrain quarterly with new Wikipedia API data. Monitor performance via dashboards (e.g., MLflow) to maintain >80% accuracy and >75% precision/recall.\n",
        "- **User Acceptance**: Pilot with Zambian admins to achieve 80%+ positive feedback, refining the interface based on user input.\n",
        "- **Ethical Considerations**: Ensure transparency via feature importance explanations. Mitigate bias against IP users or new contributors by regularly auditing model outputs."
      ],
      "metadata": {
        "id": "4OZdNhyKpVW8"
      }
    },
    {
      "cell_type": "markdown",
      "source": [
        "## 6.4 Model and Scaler Export\n",
        "The trained Random Forest model and StandardScaler are exported for production use."
      ],
      "metadata": {
        "id": "V-OqBHn0pbsL"
      }
    },
    {
      "cell_type": "code",
      "source": [
        "import pandas as pd\n",
        "import joblib\n",
        "from sklearn.ensemble import RandomForestClassifier\n",
        "from sklearn.model_selection import train_test_split\n",
        "from sklearn.metrics import accuracy_score\n",
        "from sklearn.preprocessing import StandardScaler\n",
        "\n",
        "# Load labeled dataset\n",
        "file_path = 'zambia_contributors_final_labeled.csv'\n",
        "df_labeled = pd.read_csv(file_path)\n",
        "print(\"Labeled dataset loaded. Shape:\", df_labeled.shape)\n",
        "\n",
        "# Define features (X) and target (y)\n",
        "X = df_labeled.drop(['Knowledge_Level', 'Knowledge_Level_Label'], axis=1)\n",
        "y = df_labeled['Knowledge_Level_Label']\n",
        "\n",
        "# Split data\n",
        "X_train, X_test, y_train, y_test = train_test_split(X, y, test_size=0.2, random_state=42)\n",
        "print(f\"Training set size: {X_train.shape[0]}\")\n",
        "print(f\"Testing set size: {X_test.shape[0]}\")\n",
        "\n",
        "# Train model\n",
        "rf_classifier = RandomForestClassifier(n_estimators=100, random_state=42)\n",
        "rf_classifier.fit(X_train, y_train)\n",
        "print(\"Model trained.\")\n",
        "\n",
        "# Evaluate\n",
        "y_pred = rf_classifier.predict(X_test)\n",
        "print(\"Test Accuracy:\", accuracy_score(y_test, y_pred))\n",
        "\n",
        "# Save model and scaler\n",
        "joblib.dump(rf_classifier, 'contributor_classifier_model.pkl')\n",
        "scaler = StandardScaler().fit(X)\n",
        "joblib.dump(scaler, 'data_scaler.pkl')\n",
        "print(\"Model saved as 'contributor_classifier_model.pkl'.\")\n",
        "print(\"Scaler saved as 'data_scaler.pkl'.\")"
      ],
      "metadata": {
        "id": "bkmp0w1emHRy"
      },
      "execution_count": null,
      "outputs": []
    },
    {
      "cell_type": "markdown",
      "source": [
        "##6.5 Prediction Function for Deployment\n",
        "Below is a standalone function to simulate deployment. It takes new contributor data, applies the scaler and model, and returns a prediction with confidence scores."
      ],
      "metadata": {
        "id": "ddsJ7Rqpp2Ej"
      }
    },
    {
      "cell_type": "code",
      "source": [
        "def fxn_predict_new_instance(input_data):\n",
        "    \"\"\"\n",
        "    Predict the knowledge level of a new Wikipedia contributor.\n",
        "\n",
        "    Parameters:\n",
        "    input_data (dict): Dictionary with feature values for Total_Edits, Pages_Edited,\n",
        "                      Total_Size, Active_Days, Activity_Span_Years, Edits_per_Month,\n",
        "                      Account_Age_Days, Recency_Days, Edit_Frequency, Consistency_Score,\n",
        "                      Pages_per_Year, Edits_per_Page, Avg_Contribution_Size,\n",
        "                      Contribution_Intensity, Longevity_Factor.\n",
        "\n",
        "    Returns:\n",
        "    dict: Predicted knowledge level and confidence scores for Novice, Intermediate, Expert.\n",
        "    \"\"\"\n",
        "    try:\n",
        "        # Load model and scaler\n",
        "        model = joblib.load('contributor_classifier_model.pkl')\n",
        "        scaler = joblib.load('data_scaler.pkl')\n",
        "\n",
        "        # Expected feature order\n",
        "        feature_names = ['Total_Edits', 'Pages_Edited', 'Total_Size', 'Active_Days',\n",
        "                         'Activity_Span_Years', 'Edits_per_Month', 'Account_Age_Days',\n",
        "                         'Recency_Days', 'Edit_Frequency', 'Consistency_Score',\n",
        "                         'Pages_per_Year', 'Edits_per_Page', 'Avg_Contribution_Size',\n",
        "                         'Contribution_Intensity', 'Longevity_Factor']\n",
        "\n",
        "        # Convert input to DataFrame\n",
        "        input_df = pd.DataFrame([input_data], columns=feature_names)\n",
        "\n",
        "        # Scale input while preserving feature names\n",
        "        scaled_input = pd.DataFrame(scaler.transform(input_df), columns=feature_names)\n",
        "\n",
        "        # Predict\n",
        "        prediction = model.predict(scaled_input)[0]\n",
        "        probabilities = model.predict_proba(scaled_input)[0]\n",
        "\n",
        "        # Return results\n",
        "        return {\n",
        "            'Predicted_Knowledge_Level': prediction,\n",
        "            'Confidence_Scores': {\n",
        "                'Novice': float(probabilities[0]),  # Convert to float to avoid np.float64\n",
        "                'Intermediate': float(probabilities[1]),\n",
        "                'Expert': float(probabilities[2])\n",
        "            }\n",
        "        }\n",
        "    except Exception as e:\n",
        "        return {'Error': f\"Prediction failed: {str(e)}\"}\n",
        "\n",
        "# Example usage\n",
        "sample_input = {\n",
        "    'Total_Edits': 2.0, 'Pages_Edited': 1.5, 'Total_Size': 1.8,\n",
        "    'Active_Days': 1.2, 'Activity_Span_Years': 0.8, 'Edits_per_Month': 1.5,\n",
        "    'Account_Age_Days': 1.0, 'Recency_Days': -0.5, 'Edit_Frequency': 1.2,\n",
        "    'Consistency_Score': 1.0, 'Pages_per_Year': 0.9, 'Edits_per_Page': 1.1,\n",
        "    'Avg_Contribution_Size': 1.3, 'Contribution_Intensity': 1.4, 'Longevity_Factor': 1.6\n",
        "}\n",
        "result = fxn_predict_new_instance(sample_input)\n",
        "print(\"Sample Prediction Result:\", result)"
      ],
      "metadata": {
        "id": "Jz9IMJYhmIRQ"
      },
      "execution_count": null,
      "outputs": []
    },
    {
      "cell_type": "markdown",
      "source": [
        "##Python function (fxn_predict_new_instance()) to simulate deployment"
      ],
      "metadata": {
        "id": "q7XbLau-rkJu"
      }
    },
    {
      "cell_type": "code",
      "source": [
        "result = fxn_predict_new_instance(sample_input)\n",
        "print(\"Sample Prediction Result:\", result)"
      ],
      "metadata": {
        "id": "_hk1_TE-qirV"
      },
      "execution_count": null,
      "outputs": []
    },
    {
      "cell_type": "markdown",
      "source": [
        "##6.6 Streamlit App for End-User Interaction\n",
        "A Streamlit app provides an interactive interface for admins to classify contributors. Users input feature values via a form, and the app displays the predicted knowledge level, confidence scores, and feature importance chart. The app is hosted locally for prototyping but can be deployed on Heroku or AWS for production."
      ],
      "metadata": {
        "id": "dCoT-nxRqay2"
      }
    },
    {
      "cell_type": "code",
      "source": [
        "# Install required libraries\n",
        "!pip install streamlit pyngrok -q\n",
        "\n",
        "import streamlit as st\n",
        "from pyngrok import ngrok\n",
        "import joblib\n",
        "import pandas as pd\n",
        "import numpy as np\n",
        "\n",
        "# Set ngrok authtoken (replace with your token)\n",
        "!ngrok authtoken 32oOFElZzObBSlXOp3FqeFFkewp_6afGTJJjJH1DtUPCvNxPU\n",
        "\n",
        "# Write Streamlit app\n",
        "with open('contributor_app.py', 'w') as f:\n",
        "    f.write('''\n",
        "import streamlit as st\n",
        "import joblib\n",
        "import pandas as pd\n",
        "import numpy as np\n",
        "\n",
        "st.title(\"Zambian Wikipedia Contributor Classifier\")\n",
        "\n",
        "@st.cache_resource\n",
        "def load_model():\n",
        "    return joblib.load('contributor_classifier_model.pkl'), joblib.load('data_scaler.pkl')\n",
        "\n",
        "try:\n",
        "    model, scaler = load_model()\n",
        "except:\n",
        "    st.error(\"Model or scaler not found. Please ensure they are available.\")\n",
        "    st.stop()\n",
        "\n",
        "st.header(\"Enter Contributor Features\")\n",
        "inputs = {}\n",
        "for feature in ['Total_Edits', 'Pages_Edited', 'Total_Size', 'Active_Days',\n",
        "                'Activity_Span_Years', 'Edits_per_Month', 'Account_Age_Days',\n",
        "                'Recency_Days', 'Edit_Frequency', 'Consistency_Score',\n",
        "                'Pages_per_Year', 'Edits_per_Page', 'Avg_Contribution_Size',\n",
        "                'Contribution_Intensity', 'Longevity_Factor']:\n",
        "    inputs[feature] = st.number_input(feature.replace('_', ' ').title(), min_value=-5.0, max_value=5.0, value=0.0, step=0.1)\n",
        "\n",
        "if st.button(\"Classify\"):\n",
        "    input_data = pd.DataFrame([list(inputs.values())], columns=list(inputs.keys()))\n",
        "    input_data = input_data.reindex(columns=['Total_Edits', 'Pages_Edited', 'Total_Size', 'Active_Days',\n",
        "                                            'Activity_Span_Years', 'Edits_per_Month', 'Account_Age_Days',\n",
        "                                            'Recency_Days', 'Edit_Frequency', 'Consistency_Score',\n",
        "                                            'Pages_per_Year', 'Edits_per_Page', 'Avg_Contribution_Size',\n",
        "                                            'Contribution_Intensity', 'Longevity_Factor'], fill_value=0)\n",
        "    scaled_data = scaler.transform(input_data)\n",
        "    prediction = model.predict(scaled_data)[0]\n",
        "    probabilities = model.predict_proba(scaled_data)[0]\n",
        "\n",
        "    st.success(f\"Predicted Knowledge Level: **{prediction}**\")\n",
        "    st.write(f\"Confidence Scores: Novice={probabilities[0]:.2f}, Intermediate={probabilities[1]:.2f}, Expert={probabilities[2]:.2f}\")\n",
        "\n",
        "    importances = model.feature_importances_\n",
        "    importance_df = pd.DataFrame({'Feature': ['Total_Edits', 'Pages_Edited', 'Total_Size', 'Active_Days',\n",
        "                                            'Activity_Span_Years', 'Edits_per_Month', 'Account_Age_Days',\n",
        "                                            'Recency_Days', 'Edit_Frequency', 'Consistency_Score',\n",
        "                                            'Pages_per_Year', 'Edits_per_Page', 'Avg_Contribution_Size',\n",
        "                                            'Contribution_Intensity', 'Longevity_Factor'],\n",
        "                                'Importance': importances}).sort_values('Importance', ascending=False)\n",
        "    st.bar_chart(importance_df.set_index('Feature'))\n",
        "''')\n",
        "\n",
        "# Run Streamlit app\n",
        "try:\n",
        "    ngrok.kill()  # Close any existing tunnels\n",
        "    public_url = ngrok.connect(8501)\n",
        "    print(f\"Streamlit App URL: {public_url}\")\n",
        "    !streamlit run contributor_app.py --server.port 8501 --server.address 0.0.0.0 &>/dev/null &\n",
        "except Exception as e:\n",
        "    print(f\"Error starting Streamlit: {e}. Use the sample prediction function for testing.\")"
      ],
      "metadata": {
        "id": "vkfniebeoogK"
      },
      "execution_count": null,
      "outputs": []
    },
    {
      "cell_type": "markdown",
      "source": [
        "# 7. Conclusion\n",
        "\n",
        "## 7.1 Summary of Findings\n",
        "\n",
        "This project successfully addressed the DataLab Research group’s objective at The University of Zambia to systematically classify Wikipedia contributors working on Zambian content into knowledge levels (*Novice*, *Intermediate*, *Expert*) to enhance content quality and contributor engagement. By analyzing 128 unique contributors across 20 Zambia-related Wikipedia pages, we engineered 15 features (e.g., `Total_Edits`, `Longevity_Factor`, `Contribution_Intensity`) and used K-Means clustering (k=3) to generate proxy labels, followed by a Random Forest classifier. The model achieved ~100% accuracy on the test set, meeting the project’s success criteria of >80% accuracy and >75% precision/recall for *Novice* and *Intermediate* classes, though the *Expert* class (1 sample) was underrepresented, limiting evaluation robustness. Key insights include:\n",
        "\n",
        "- **Contributor Profiles**: 115 *Novice* (low activity), 12 *Intermediate* (moderate engagement), and 1 *Expert* (high longevity/intensity) contributors were identified, enabling targeted strategies for mentoring and task assignment.\n",
        "- **Feature Importance**: Features like `Total_Edits` and `Longevity_Factor` drive classifications, providing actionable insights for contributor development.\n",
        "- **Business Impact**: The classification framework supports improved content quality, optimized engagement, and knowledge transfer by identifying experts to mentor novices and matching contributors to tasks based on expertise."
      ],
      "metadata": {
        "id": "fYCmGE0os8Hl"
      }
    },
    {
      "cell_type": "markdown",
      "source": [
        "## 7.2 Deployment Outcomes\n",
        "\n",
        "The Random Forest classifier was deployed as a *Streamlit web application* and a standalone Python function (`fxn_predict_new_instance()`), allowing Wikipedia administrators and DataLab researchers to classify contributors in real-time. The Streamlit app provides an intuitive interface for inputting contributor features, displaying predicted knowledge levels, confidence scores, and feature importance charts for transparency. The prediction function offers a programmatic alternative, meeting the assignment’s requirement for a simple, deployable solution. The deployment satisfies scalability (<1 minute per contributor), interpretability (via feature importance), and user acceptance goals (targeting 80%+ positive feedback from admins). Integration with Wikipedia’s API is planned for production to enable real-time data retrieval."
      ],
      "metadata": {
        "id": "6kix7VrrtATp"
      }
    },
    {
      "cell_type": "markdown",
      "source": [
        "## 7.3 Limitations\n",
        "\n",
        "- **Class Imbalance**: With only 1 *Expert* sample, the model’s ability to classify experts is untested, leading to potential misclassifications (e.g., high-activity contributors labeled as *Novice*).\n",
        "- **Dataset Scope**: Limited to 20 Zambia-related pages, the dataset may not capture the full diversity of contributor behaviors.\n",
        "- **Label Mapping**: Initial mismatches in cluster-to-label mapping required correction, highlighting the need for robust validation.\n",
        "- **Evaluation**: The ~100% accuracy is inflated due to the absence of *Expert* samples in some test splits, necessitating further validation."
      ],
      "metadata": {
        "id": "Fsr2efmCtBu-"
      }
    }
  ]
}